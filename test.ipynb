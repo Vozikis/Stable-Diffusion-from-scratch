{
 "cells": [
  {
   "cell_type": "code",
   "execution_count": 2,
   "metadata": {},
   "outputs": [],
   "source": [
    "import torch"
   ]
  },
  {
   "cell_type": "code",
   "execution_count": 3,
   "metadata": {},
   "outputs": [],
   "source": [
    "x = torch.rand(4,3,2)\n",
    "x.transpose(-1,-2)"
   ]
  },
  {
   "cell_type": "code",
   "execution_count": 4,
   "metadata": {},
   "outputs": [
    {
     "data": {
      "text/plain": [
       "tensor([[[0.9239, 0.3304],\n",
       "         [0.1599, 0.3108],\n",
       "         [0.4215, 0.7393]],\n",
       "\n",
       "        [[0.1273, 0.3747],\n",
       "         [0.1666, 0.0332],\n",
       "         [0.6208, 0.6880]],\n",
       "\n",
       "        [[0.4973, 0.3512],\n",
       "         [0.2800, 0.2287],\n",
       "         [0.5224, 0.9294]],\n",
       "\n",
       "        [[0.5869, 0.5547],\n",
       "         [0.0624, 0.0230],\n",
       "         [0.0673, 0.4651]]])"
      ]
     },
     "execution_count": 4,
     "metadata": {},
     "output_type": "execute_result"
    }
   ],
   "source": [
    "x"
   ]
  },
  {
   "cell_type": "code",
   "execution_count": 5,
   "metadata": {},
   "outputs": [
    {
     "data": {
      "text/plain": [
       "tensor([[[0.9239, 0.1599, 0.4215],\n",
       "         [0.3304, 0.3108, 0.7393]],\n",
       "\n",
       "        [[0.1273, 0.1666, 0.6208],\n",
       "         [0.3747, 0.0332, 0.6880]],\n",
       "\n",
       "        [[0.4973, 0.2800, 0.5224],\n",
       "         [0.3512, 0.2287, 0.9294]],\n",
       "\n",
       "        [[0.5869, 0.0624, 0.0673],\n",
       "         [0.5547, 0.0230, 0.4651]]])"
      ]
     },
     "execution_count": 5,
     "metadata": {},
     "output_type": "execute_result"
    }
   ],
   "source": []
  },
  {
   "cell_type": "code",
   "execution_count": null,
   "metadata": {},
   "outputs": [],
   "source": []
  }
 ],
 "metadata": {
  "kernelspec": {
   "display_name": "base",
   "language": "python",
   "name": "python3"
  },
  "language_info": {
   "codemirror_mode": {
    "name": "ipython",
    "version": 3
   },
   "file_extension": ".py",
   "mimetype": "text/x-python",
   "name": "python",
   "nbconvert_exporter": "python",
   "pygments_lexer": "ipython3",
   "version": "3.10.14"
  }
 },
 "nbformat": 4,
 "nbformat_minor": 2
}
