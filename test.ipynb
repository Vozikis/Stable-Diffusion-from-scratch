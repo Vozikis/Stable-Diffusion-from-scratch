{
 "cells": [
  {
   "cell_type": "code",
   "execution_count": 8,
   "metadata": {},
   "outputs": [],
   "source": [
    "import torch\n",
    "from torch.nn import functional as F"
   ]
  },
  {
   "cell_type": "code",
   "execution_count": 9,
   "metadata": {},
   "outputs": [
    {
     "data": {
      "text/plain": [
       "tensor([[[0.4207, 0.1287, 0.2519],\n",
       "         [0.2262, 0.6493, 0.1296]],\n",
       "\n",
       "        [[0.1423, 0.5036, 0.8804],\n",
       "         [0.6214, 0.9730, 0.3161]],\n",
       "\n",
       "        [[0.2255, 0.3010, 0.3259],\n",
       "         [0.2295, 0.0268, 0.3044]],\n",
       "\n",
       "        [[0.3741, 0.3954, 0.2270],\n",
       "         [0.9267, 0.7003, 0.6990]]])"
      ]
     },
     "execution_count": 9,
     "metadata": {},
     "output_type": "execute_result"
    }
   ],
   "source": [
    "x = torch.rand(4,3,2)\n",
    "x.transpose(-1,-2)"
   ]
  },
  {
   "cell_type": "code",
   "execution_count": 25,
   "metadata": {},
   "outputs": [
    {
     "data": {
      "text/plain": [
       "torch.Size([4, 5, 12, 14])"
      ]
     },
     "execution_count": 25,
     "metadata": {},
     "output_type": "execute_result"
    }
   ],
   "source": [
    "l = torch.ones(4,5,6,7)\n",
    "# l = l.unsqueeze(0).unsqueeze(0)\n",
    "l.shape\n",
    "m = F.interpolate(l, scale_factor=2,mode = 'nearest')\n",
    "m.shape"
   ]
  },
  {
   "cell_type": "code",
   "execution_count": null,
   "metadata": {},
   "outputs": [
    {
     "data": {
      "text/plain": [
       "tensor([[[0.9239, 0.1599, 0.4215],\n",
       "         [0.3304, 0.3108, 0.7393]],\n",
       "\n",
       "        [[0.1273, 0.1666, 0.6208],\n",
       "         [0.3747, 0.0332, 0.6880]],\n",
       "\n",
       "        [[0.4973, 0.2800, 0.5224],\n",
       "         [0.3512, 0.2287, 0.9294]],\n",
       "\n",
       "        [[0.5869, 0.0624, 0.0673],\n",
       "         [0.5547, 0.0230, 0.4651]]])"
      ]
     },
     "execution_count": 5,
     "metadata": {},
     "output_type": "execute_result"
    }
   ],
   "source": []
  },
  {
   "cell_type": "code",
   "execution_count": null,
   "metadata": {},
   "outputs": [],
   "source": []
  }
 ],
 "metadata": {
  "kernelspec": {
   "display_name": "base",
   "language": "python",
   "name": "python3"
  },
  "language_info": {
   "codemirror_mode": {
    "name": "ipython",
    "version": 3
   },
   "file_extension": ".py",
   "mimetype": "text/x-python",
   "name": "python",
   "nbconvert_exporter": "python",
   "pygments_lexer": "ipython3",
   "version": "3.10.14"
  }
 },
 "nbformat": 4,
 "nbformat_minor": 2
}
