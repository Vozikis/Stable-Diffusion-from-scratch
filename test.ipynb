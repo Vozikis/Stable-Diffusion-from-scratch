{
 "cells": [
  {
   "cell_type": "code",
   "execution_count": 1,
   "metadata": {},
   "outputs": [],
   "source": [
    "import torch"
   ]
  },
  {
   "cell_type": "code",
   "execution_count": 5,
   "metadata": {},
   "outputs": [],
   "source": [
    "x = torch.rand(4,3,2)"
   ]
  },
  {
   "cell_type": "code",
   "execution_count": 6,
   "metadata": {},
   "outputs": [
    {
     "data": {
      "text/plain": [
       "tensor([[[0.7221, 0.2853],\n",
       "         [0.1893, 0.2981],\n",
       "         [0.3853, 0.8276]],\n",
       "\n",
       "        [[0.0886, 0.7050],\n",
       "         [0.8690, 0.6964],\n",
       "         [0.2245, 0.5450]],\n",
       "\n",
       "        [[0.9916, 0.9373],\n",
       "         [0.7769, 0.8915],\n",
       "         [0.1766, 0.6278]],\n",
       "\n",
       "        [[0.3716, 0.8155],\n",
       "         [0.7597, 0.0744],\n",
       "         [0.3562, 0.2810]]])"
      ]
     },
     "execution_count": 6,
     "metadata": {},
     "output_type": "execute_result"
    }
   ],
   "source": [
    "x"
   ]
  },
  {
   "cell_type": "code",
   "execution_count": 11,
   "metadata": {},
   "outputs": [
    {
     "data": {
      "text/plain": [
       "tensor([[[0.7221, 0.1893, 0.3853],\n",
       "         [0.2853, 0.2981, 0.8276]],\n",
       "\n",
       "        [[0.0886, 0.8690, 0.2245],\n",
       "         [0.7050, 0.6964, 0.5450]],\n",
       "\n",
       "        [[0.9916, 0.7769, 0.1766],\n",
       "         [0.9373, 0.8915, 0.6278]],\n",
       "\n",
       "        [[0.3716, 0.7597, 0.3562],\n",
       "         [0.8155, 0.0744, 0.2810]]])"
      ]
     },
     "execution_count": 11,
     "metadata": {},
     "output_type": "execute_result"
    }
   ],
   "source": [
    "x.transpose(-2,-1)"
   ]
  },
  {
   "cell_type": "code",
   "execution_count": null,
   "metadata": {},
   "outputs": [],
   "source": []
  }
 ],
 "metadata": {
  "kernelspec": {
   "display_name": "base",
   "language": "python",
   "name": "python3"
  },
  "language_info": {
   "codemirror_mode": {
    "name": "ipython",
    "version": 3
   },
   "file_extension": ".py",
   "mimetype": "text/x-python",
   "name": "python",
   "nbconvert_exporter": "python",
   "pygments_lexer": "ipython3",
   "version": "3.10.14"
  }
 },
 "nbformat": 4,
 "nbformat_minor": 2
}
