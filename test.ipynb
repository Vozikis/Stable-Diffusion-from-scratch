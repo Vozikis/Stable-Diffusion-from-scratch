{
 "cells": [
  {
   "cell_type": "code",
   "execution_count": 20,
   "metadata": {},
   "outputs": [],
   "source": [
    "import torch\n",
    "from torch.nn import functional as F"
   ]
  },
  {
   "cell_type": "code",
   "execution_count": 21,
   "metadata": {},
   "outputs": [
    {
     "data": {
      "text/plain": [
       "tensor([[[0.1594, 0.8411, 0.6851],\n",
       "         [0.2405, 0.3238, 0.6306]],\n",
       "\n",
       "        [[0.5461, 0.7427, 0.9159],\n",
       "         [0.0144, 0.6462, 0.8681]],\n",
       "\n",
       "        [[0.6130, 0.8994, 0.8675],\n",
       "         [0.1066, 0.5251, 0.3861]],\n",
       "\n",
       "        [[0.3144, 0.5842, 0.8234],\n",
       "         [0.6904, 0.5979, 0.6729]]])"
      ]
     },
     "execution_count": 21,
     "metadata": {},
     "output_type": "execute_result"
    }
   ],
   "source": [
    "x = torch.rand(4,3,2)\n",
    "x.transpose(-1,-2)"
   ]
  },
  {
   "cell_type": "code",
   "execution_count": 22,
   "metadata": {},
   "outputs": [
    {
     "data": {
      "text/plain": [
       "torch.Size([4, 5, 12, 14])"
      ]
     },
     "execution_count": 22,
     "metadata": {},
     "output_type": "execute_result"
    }
   ],
   "source": [
    "l = torch.ones(4,5,6,7)\n",
    "# l = l.unsqueeze(0).unsqueeze(0)\n",
    "l.shape\n",
    "m = F.interpolate(l, scale_factor=2,mode = 'nearest')\n",
    "m.shape"
   ]
  },
  {
   "cell_type": "code",
   "execution_count": 23,
   "metadata": {},
   "outputs": [
    {
     "name": "stdout",
     "output_type": "stream",
     "text": [
      "torch.Size([1, 1280])\n",
      "torch.Size([1, 1280, 1, 1])\n"
     ]
    }
   ],
   "source": [
    "time = torch.ones(1,1280)\n",
    "print(time.shape)\n",
    "merged = time.unsqueeze(-1).unsqueeze(-1)\n",
    "print(merged.shape)"
   ]
  },
  {
   "cell_type": "code",
   "execution_count": 30,
   "metadata": {},
   "outputs": [
    {
     "name": "stdout",
     "output_type": "stream",
     "text": [
      "tensor([1.0000e+00, 2.3571e+00, 8.7551e+00, 4.4401e+01, 2.8543e+02, 2.2223e+03,\n",
      "        2.0318e+04, 2.1334e+05, 2.5296e+06, 3.3427e+07, 4.8708e+08, 7.7585e+09,\n",
      "        1.3411e+11, 2.5002e+12, 5.0004e+13])\n"
     ]
    }
   ],
   "source": [
    "a = torch.linspace(1,20, 15)\n",
    "b = torch.cumprod(a,0)\n",
    "print(b)"
   ]
  },
  {
   "cell_type": "code",
   "execution_count": null,
   "metadata": {},
   "outputs": [],
   "source": []
  }
 ],
 "metadata": {
  "kernelspec": {
   "display_name": "base",
   "language": "python",
   "name": "python3"
  },
  "language_info": {
   "codemirror_mode": {
    "name": "ipython",
    "version": 3
   },
   "file_extension": ".py",
   "mimetype": "text/x-python",
   "name": "python",
   "nbconvert_exporter": "python",
   "pygments_lexer": "ipython3",
   "version": "3.10.14"
  }
 },
 "nbformat": 4,
 "nbformat_minor": 2
}
