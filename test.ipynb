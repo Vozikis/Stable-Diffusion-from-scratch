{
 "cells": [
  {
   "cell_type": "code",
   "execution_count": 26,
   "metadata": {},
   "outputs": [],
   "source": [
    "import torch\n",
    "from torch.nn import functional as F"
   ]
  },
  {
   "cell_type": "code",
   "execution_count": 27,
   "metadata": {},
   "outputs": [
    {
     "data": {
      "text/plain": [
       "tensor([[[0.9872, 0.8717, 0.9938],\n",
       "         [0.6672, 0.4204, 0.0179]],\n",
       "\n",
       "        [[0.4181, 0.1897, 0.8519],\n",
       "         [0.1379, 0.7388, 0.0043]],\n",
       "\n",
       "        [[0.0674, 0.9171, 0.4594],\n",
       "         [0.7907, 0.7676, 0.1375]],\n",
       "\n",
       "        [[0.9547, 0.7898, 0.4829],\n",
       "         [0.0593, 0.0047, 0.1809]]])"
      ]
     },
     "execution_count": 27,
     "metadata": {},
     "output_type": "execute_result"
    }
   ],
   "source": [
    "x = torch.rand(4,3,2)\n",
    "x.transpose(-1,-2)"
   ]
  },
  {
   "cell_type": "code",
   "execution_count": 28,
   "metadata": {},
   "outputs": [
    {
     "data": {
      "text/plain": [
       "torch.Size([4, 5, 12, 14])"
      ]
     },
     "execution_count": 28,
     "metadata": {},
     "output_type": "execute_result"
    }
   ],
   "source": [
    "l = torch.ones(4,5,6,7)\n",
    "# l = l.unsqueeze(0).unsqueeze(0)\n",
    "l.shape\n",
    "m = F.interpolate(l, scale_factor=2,mode = 'nearest')\n",
    "m.shape"
   ]
  },
  {
   "cell_type": "code",
   "execution_count": 31,
   "metadata": {},
   "outputs": [
    {
     "name": "stdout",
     "output_type": "stream",
     "text": [
      "torch.Size([1, 1280])\n",
      "torch.Size([1, 1280, 1, 1])\n"
     ]
    }
   ],
   "source": [
    "time = torch.ones(1,1280)\n",
    "print(time.shape)\n",
    "merged = time.unsqueeze(-1).unsqueeze(-1)\n",
    "print(merged.shape)"
   ]
  },
  {
   "cell_type": "code",
   "execution_count": null,
   "metadata": {},
   "outputs": [],
   "source": []
  }
 ],
 "metadata": {
  "kernelspec": {
   "display_name": "base",
   "language": "python",
   "name": "python3"
  },
  "language_info": {
   "codemirror_mode": {
    "name": "ipython",
    "version": 3
   },
   "file_extension": ".py",
   "mimetype": "text/x-python",
   "name": "python",
   "nbconvert_exporter": "python",
   "pygments_lexer": "ipython3",
   "version": "3.10.14"
  }
 },
 "nbformat": 4,
 "nbformat_minor": 2
}
